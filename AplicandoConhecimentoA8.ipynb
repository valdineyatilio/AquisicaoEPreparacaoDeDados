{
 "cells": [
  {
   "cell_type": "markdown",
   "metadata": {
    "id": "40b90843"
   },
   "source": [
    "# ***Conjunto de dados de previsão de doenças cardíacas***"
   ]
  },
  {
   "cell_type": "markdown",
   "metadata": {
    "id": "rYx9D4GZA5o9"
   },
   "source": [
    " Valdiney Atílio Pedro Ra: 10424616"
   ]
  },
  {
   "cell_type": "markdown",
   "metadata": {
    "id": "xGFJyOm1Kdtd"
   },
   "source": [
    "# Base de Dados \n",
    "*Conjunto de dados de previsão de doenças cardíacas.*\n",
    "*Um conjunto de dados abrangente para previsão de doenças cardíacas.*\n",
    "\n",
    "\n",
    "\n"
   ]
  },
  {
   "cell_type": "markdown",
   "metadata": {},
   "source": [
    "Fonte: https://raw.githubusercontent.com/valdineyatilio/AquisicaoEPreparacaoDeDados/main/cleaned_merged_heart_dataset.csv"
   ]
  },
  {
   "cell_type": "code",
   "execution_count": 6,
   "metadata": {},
   "outputs": [],
   "source": [
    "#pip install --upgrade seaborn"
   ]
  },
  {
   "cell_type": "code",
   "execution_count": 8,
   "metadata": {
    "id": "V_X2jqpl3UWA"
   },
   "outputs": [
    {
     "name": "stdout",
     "output_type": "stream",
     "text": [
      "   age  sex  cp  trestbps  chol  fbs  restecg  thalachh  exang  oldpeak  \\\n",
      "0   63    1   3       145   233    1        0       150      0      2.3   \n",
      "1   37    1   2       130   250    0        1       187      0      3.5   \n",
      "2   41    0   1       130   204    0        0       172      0      1.4   \n",
      "3   56    1   1       120   236    0        1       178      0      0.8   \n",
      "4   57    0   0       120   354    0        1       163      1      0.6   \n",
      "\n",
      "   slope  ca  thal  target  \n",
      "0      0   0     1       1  \n",
      "1      0   0     2       1  \n",
      "2      2   0     2       1  \n",
      "3      2   0     2       1  \n",
      "4      2   0     2       1  \n",
      "<class 'pandas.core.frame.DataFrame'>\n",
      "RangeIndex: 1888 entries, 0 to 1887\n",
      "Data columns (total 14 columns):\n",
      " #   Column    Non-Null Count  Dtype  \n",
      "---  ------    --------------  -----  \n",
      " 0   age       1888 non-null   int64  \n",
      " 1   sex       1888 non-null   int64  \n",
      " 2   cp        1888 non-null   int64  \n",
      " 3   trestbps  1888 non-null   int64  \n",
      " 4   chol      1888 non-null   int64  \n",
      " 5   fbs       1888 non-null   int64  \n",
      " 6   restecg   1888 non-null   int64  \n",
      " 7   thalachh  1888 non-null   int64  \n",
      " 8   exang     1888 non-null   int64  \n",
      " 9   oldpeak   1888 non-null   float64\n",
      " 10  slope     1888 non-null   int64  \n",
      " 11  ca        1888 non-null   int64  \n",
      " 12  thal      1888 non-null   int64  \n",
      " 13  target    1888 non-null   int64  \n",
      "dtypes: float64(1), int64(13)\n",
      "memory usage: 206.6 KB\n",
      "None\n",
      "               age          sex           cp     trestbps         chol  \\\n",
      "count  1888.000000  1888.000000  1888.000000  1888.000000  1888.000000   \n",
      "mean     54.354343     0.688559     1.279131   131.549258   246.855403   \n",
      "std       9.081505     0.463205     1.280877    17.556985    51.609329   \n",
      "min      29.000000     0.000000     0.000000    94.000000   126.000000   \n",
      "25%      47.750000     0.000000     0.000000   120.000000   211.000000   \n",
      "50%      55.000000     1.000000     1.000000   130.000000   241.000000   \n",
      "75%      61.000000     1.000000     2.000000   140.000000   276.000000   \n",
      "max      77.000000     1.000000     4.000000   200.000000   564.000000   \n",
      "\n",
      "               fbs      restecg     thalachh        exang      oldpeak  \\\n",
      "count  1888.000000  1888.000000  1888.000000  1888.000000  1888.000000   \n",
      "mean      0.148305     0.597458   149.424258     0.331568     1.053761   \n",
      "std       0.355496     0.638820    23.006153     0.470901     1.161344   \n",
      "min       0.000000     0.000000    71.000000     0.000000     0.000000   \n",
      "25%       0.000000     0.000000   133.000000     0.000000     0.000000   \n",
      "50%       0.000000     1.000000   152.000000     0.000000     0.800000   \n",
      "75%       0.000000     1.000000   166.000000     1.000000     1.600000   \n",
      "max       1.000000     2.000000   202.000000     1.000000     6.200000   \n",
      "\n",
      "             slope           ca         thal       target  \n",
      "count  1888.000000  1888.000000  1888.000000  1888.000000  \n",
      "mean      1.421610     0.731462     2.662606     0.517479  \n",
      "std       0.619588     1.015735     1.249924     0.499827  \n",
      "min       0.000000     0.000000     0.000000     0.000000  \n",
      "25%       1.000000     0.000000     2.000000     0.000000  \n",
      "50%       1.000000     0.000000     2.000000     1.000000  \n",
      "75%       2.000000     1.000000     3.000000     1.000000  \n",
      "max       3.000000     4.000000     7.000000     1.000000  \n",
      "age         0\n",
      "sex         0\n",
      "cp          0\n",
      "trestbps    0\n",
      "chol        0\n",
      "fbs         0\n",
      "restecg     0\n",
      "thalachh    0\n",
      "exang       0\n",
      "oldpeak     0\n",
      "slope       0\n",
      "ca          0\n",
      "thal        0\n",
      "target      0\n",
      "dtype: int64\n"
     ]
    },
    {
     "data": {
      "image/png": "[encoded data removed]",
      "text/plain": [
       "<Figure size 640x480 with 1 Axes>"
      ]
     },
     "metadata": {},
     "output_type": "display_data"
    }
   ],
   "source": [
    "# Análise Exploratória dos Dados (EDA)\n",
    "import pandas as pd\n",
    "import matplotlib.pyplot as plt\n",
    "import seaborn as sns\n",
    "import numpy as np\n",
    "\n",
    "# Carregar a base de dados\n",
    "url = 'https://raw.githubusercontent.com/valdineyatilio/AquisicaoEPreparacaoDeDados/main/cleaned_merged_heart_dataset.csv'\n",
    "df = pd.read_csv(url)\n",
    "\n",
    "# Substituir valores infinitos por NaN\n",
    "df.replace([np.inf, -np.inf], np.nan, inplace=True)\n",
    "\n",
    "# Visualizar as primeiras linhas da base de dados\n",
    "print(df.head())\n",
    "\n",
    "# Informações gerais sobre a base de dados\n",
    "print(df.info())\n",
    "\n",
    "# Estatísticas descritivas\n",
    "print(df.describe())\n",
    "\n",
    "# Verificar valores ausentes\n",
    "print(df.isnull().sum())\n",
    "\n",
    "# Visualização da distribuição da idade\n",
    "sns.histplot(df['age'].dropna(), bins=30)\n",
    "plt.title('Distribuição das Idades')\n",
    "plt.xlabel('Idade')\n",
    "plt.ylabel('Frequência')\n",
    "plt.show()"
   ]
  },
  {
   "cell_type": "markdown",
   "metadata": {},
   "source": [
    "# Resultados da Análise Exploratória Inicial:\n",
    "A análise exploratória inicial revelou a presença de valores ausentes nas colunas 'age' e 'chol'.\n",
    "\n",
    "Foram identificados outliers na coluna 'chol'.\n",
    "\n",
    "As principais características da base de dados foram analisadas e visualizadas."
   ]
  },
  {
   "cell_type": "markdown",
   "metadata": {},
   "source": [
    "# Descrição do Pipeline Desenvolvido:\n",
    "O pipeline de limpeza e preparação dos dados incluiu as seguintes etapas:\n",
    "\n",
    "Tratamento de Valores Ausentes: Preenchimento com a mediana.\n",
    "\n",
    "Tratamento de Ruídos e Outliers: Remoção de outliers usando o método do IQR.\n",
    "\n",
    "Tratamento de Valores Duplicados: Remoção de duplicatas.\n",
    "\n",
    "Redução de Dimensionalidade: Seleção das variáveis mais importantes.\n",
    "\n",
    "Transformação de Dados: Conversão de variáveis categóricas em numéricas"
   ]
  },
  {
   "cell_type": "markdown",
   "metadata": {},
   "source": [
    "# Tratamento de valores Ausentes"
   ]
  },
  {
   "cell_type": "code",
   "execution_count": 13,
   "metadata": {},
   "outputs": [
    {
     "name": "stdout",
     "output_type": "stream",
     "text": [
      "age         0\n",
      "sex         0\n",
      "cp          0\n",
      "trestbps    0\n",
      "chol        0\n",
      "fbs         0\n",
      "restecg     0\n",
      "thalachh    0\n",
      "exang       0\n",
      "oldpeak     0\n",
      "slope       0\n",
      "ca          0\n",
      "thal        0\n",
      "target      0\n",
      "dtype: int64\n"
     ]
    }
   ],
   "source": [
    "# Preencher valores ausentes da idade com a mediana\n",
    "df['age'].fillna(df['age'].median(), inplace=True)\n",
    "\n",
    "# Preencher valores ausentes da coluna 'chol' com a mediana\n",
    "df['chol'].fillna(df['chol'].median(), inplace=True)\n",
    "\n",
    "# Verificar novamente valores ausentes\n",
    "print(df.isnull().sum())\n"
   ]
  },
  {
   "cell_type": "markdown",
   "metadata": {},
   "source": [
    "# Tratamento de Ruídos e Outliers:"
   ]
  },
  {
   "cell_type": "code",
   "execution_count": 16,
   "metadata": {},
   "outputs": [],
   "source": [
    "# Identificar e remover outliers na coluna 'chol' usando o método do IQR\n",
    "Q1 = df['chol'].quantile(0.25)\n",
    "Q3 = df['chol'].quantile(0.75)\n",
    "IQR = Q3 - Q1\n",
    "outliers = df[(df['chol'] < Q1 - 1.5 * IQR) | (df['chol'] > Q3 + 1.5 * IQR)]\n",
    "df = df[~df.index.isin(outliers.index)]"
   ]
  },
  {
   "cell_type": "markdown",
   "metadata": {},
   "source": [
    "# Tratamento de Valores Duplicados:"
   ]
  },
  {
   "cell_type": "code",
   "execution_count": 19,
   "metadata": {},
   "outputs": [],
   "source": [
    "# Remover valores duplicados, se existirem\n",
    "df.drop_duplicates(inplace=True)"
   ]
  },
  {
   "cell_type": "markdown",
   "metadata": {},
   "source": [
    "# Redução de Dimensionalidade:"
   ]
  },
  {
   "cell_type": "code",
   "execution_count": 22,
   "metadata": {},
   "outputs": [],
   "source": [
    "# Selecionar as principais variáveis de interesse\n",
    "df_reduced = df[['age', 'sex', 'trestbps', 'chol', 'thalachh', 'target']]\n"
   ]
  },
  {
   "cell_type": "markdown",
   "metadata": {},
   "source": [
    "# Transformação de Dados:"
   ]
  },
  {
   "cell_type": "code",
   "execution_count": 25,
   "metadata": {},
   "outputs": [],
   "source": [
    "# Transformar variáveis categóricas em variáveis numéricas, se aplicável\n",
    "# Neste exemplo, a variável 'sex' será transformada\n",
    "df_reduced.loc[:, 'sex'] = df_reduced['sex'].map({0: 'female', 1: 'male'})\n"
   ]
  },
  {
   "cell_type": "markdown",
   "metadata": {},
   "source": [
    "# Visualização de Dados Agrupados:"
   ]
  },
  {
   "cell_type": "code",
   "execution_count": 28,
   "metadata": {},
   "outputs": [
    {
     "data": {
      "image/png": "[encoded data removed]",
      "text/plain": [
       "<Figure size 640x480 with 1 Axes>"
      ]
     },
     "metadata": {},
     "output_type": "display_data"
    }
   ],
   "source": [
    "# Visualizar a relação entre a idade e a presença de doenças cardíacas\n",
    "sns.boxplot(x='target', y='age', data=df_reduced)\n",
    "plt.title('Idade x Presença de Doenças Cardíacas')\n",
    "plt.xlabel('Doença Cardíaca (0: Não, 1: Sim)')\n",
    "plt.ylabel('Idade')\n",
    "plt.show()\n"
   ]
  },
  {
   "cell_type": "markdown",
   "metadata": {},
   "source": [
    "# Visualizações Geradas:\n",
    "Distribuição das Idades: Mostra a distribuição das idades dos pacientes, o que ajuda a entender a faixa etária predominante no conjunto de dados.\n",
    "\n",
    "Idade x Presença de Doenças Cardíacas: Visualiza a relação entre a idade e a presença de doenças cardíacas, indicando como a variação de idade influencia a presença de doenças cardíacas."
   ]
  },
  {
   "cell_type": "markdown",
   "metadata": {},
   "source": [
    "# Resultados do Processo Desenvolvido:\n",
    "Após o processamento, a base de dados foi limpa, sem valores ausentes ou duplicados, e as variáveis categóricas foram transformadas em numéricas. O conjunto de dados está pronto para ser usado em modelos de aprendizado de máquina para previsão de doenças cardíacas."
   ]
  },
  {
   "cell_type": "code",
   "execution_count": null,
   "metadata": {},
   "outputs": [],
   "source": []
  }
 ],
 "metadata": {
  "colab": {
   "collapsed_sections": [],
   "include_colab_link": true,
   "name": "ML7_ex_projeto.ipynb",
   "provenance": []
  },
  "kernelspec": {
   "display_name": "Python 3 (ipykernel)",
   "language": "python",
   "name": "python3"
  },
  "language_info": {
   "codemirror_mode": {
    "name": "ipython",
    "version": 3
   },
   "file_extension": ".py",
   "mimetype": "text/x-python",
   "name": "python",
   "nbconvert_exporter": "python",
   "pygments_lexer": "ipython3",
   "version": "3.11.7"
  }
 },
 "nbformat": 4,
 "nbformat_minor": 4
}
